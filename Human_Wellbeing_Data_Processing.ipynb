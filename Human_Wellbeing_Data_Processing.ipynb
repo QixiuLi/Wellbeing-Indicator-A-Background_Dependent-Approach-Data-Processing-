{
 "cells": [
  {
   "cell_type": "markdown",
   "id": "42be814c",
   "metadata": {},
   "source": [
    "# Background-Dependent Wellbeing Research"
   ]
  },
  {
   "cell_type": "markdown",
   "id": "6f61a64c",
   "metadata": {},
   "source": [
    "## Data Processing"
   ]
  },
  {
   "cell_type": "code",
   "execution_count": 2,
   "id": "98e355ff",
   "metadata": {},
   "outputs": [],
   "source": [
    "import pandas as pd\n",
    "import numpy as np"
   ]
  },
  {
   "cell_type": "code",
   "execution_count": 3,
   "id": "3d7a40fd",
   "metadata": {},
   "outputs": [],
   "source": [
    "df = pd.read_csv('Human_Wellbeing_Raw_Data_Columns_Renamed.csv')"
   ]
  },
  {
   "cell_type": "code",
   "execution_count": 4,
   "id": "67b382b5",
   "metadata": {},
   "outputs": [
    {
     "data": {
      "text/plain": [
       "Index(['Timestamp', 'AGE', 'GENDER', 'CULTURE', 'RELIGION', 'ECO1', 'ECO2',\n",
       "       'ECO3', 'ECO4', 'ECO5', 'SOC1', 'SOC2', 'SOC3', 'SOC4', 'SOC5', 'SOC51',\n",
       "       'ENV1', 'ENV2', 'ENV3', 'ENV4', 'ENV5', 'POL1', 'POL2', 'POL3', 'POL4',\n",
       "       'POL5', 'TEC1', 'TEC2', 'TEC3', 'TEC4', 'TEC5', 'TEC6', 'ECO_RANK',\n",
       "       'SOC_RANK', 'ENV_RANK', 'POL_RANK', 'TEC_RANK'],\n",
       "      dtype='object')"
      ]
     },
     "execution_count": 4,
     "metadata": {},
     "output_type": "execute_result"
    }
   ],
   "source": [
    "df.columns"
   ]
  },
  {
   "cell_type": "code",
   "execution_count": 5,
   "id": "4f3ac058",
   "metadata": {},
   "outputs": [
    {
     "data": {
      "text/html": [
       "<div>\n",
       "<style scoped>\n",
       "    .dataframe tbody tr th:only-of-type {\n",
       "        vertical-align: middle;\n",
       "    }\n",
       "\n",
       "    .dataframe tbody tr th {\n",
       "        vertical-align: top;\n",
       "    }\n",
       "\n",
       "    .dataframe thead th {\n",
       "        text-align: right;\n",
       "    }\n",
       "</style>\n",
       "<table border=\"1\" class=\"dataframe\">\n",
       "  <thead>\n",
       "    <tr style=\"text-align: right;\">\n",
       "      <th></th>\n",
       "      <th>Timestamp</th>\n",
       "      <th>AGE</th>\n",
       "      <th>GENDER</th>\n",
       "      <th>CULTURE</th>\n",
       "      <th>RELIGION</th>\n",
       "      <th>ECO1</th>\n",
       "      <th>ECO2</th>\n",
       "      <th>ECO3</th>\n",
       "      <th>ECO4</th>\n",
       "      <th>ECO5</th>\n",
       "      <th>...</th>\n",
       "      <th>TEC2</th>\n",
       "      <th>TEC3</th>\n",
       "      <th>TEC4</th>\n",
       "      <th>TEC5</th>\n",
       "      <th>TEC6</th>\n",
       "      <th>ECO_RANK</th>\n",
       "      <th>SOC_RANK</th>\n",
       "      <th>ENV_RANK</th>\n",
       "      <th>POL_RANK</th>\n",
       "      <th>TEC_RANK</th>\n",
       "    </tr>\n",
       "  </thead>\n",
       "  <tbody>\n",
       "    <tr>\n",
       "      <th>0</th>\n",
       "      <td>11/5/2022 20:55:53</td>\n",
       "      <td>15 - 16</td>\n",
       "      <td>Male</td>\n",
       "      <td>Chinese</td>\n",
       "      <td>Atheist (Non-Religious)</td>\n",
       "      <td>3</td>\n",
       "      <td>In education (not paid for by employer) even i...</td>\n",
       "      <td>$0 – $18,200</td>\n",
       "      <td>Yes</td>\n",
       "      <td>$130001 - $200000</td>\n",
       "      <td>...</td>\n",
       "      <td>9</td>\n",
       "      <td>10</td>\n",
       "      <td>Communication, Share information, Entertainment</td>\n",
       "      <td>Public transport</td>\n",
       "      <td>No</td>\n",
       "      <td>2</td>\n",
       "      <td>1</td>\n",
       "      <td>5</td>\n",
       "      <td>4</td>\n",
       "      <td>3</td>\n",
       "    </tr>\n",
       "    <tr>\n",
       "      <th>1</th>\n",
       "      <td>11/5/2022 20:56:17</td>\n",
       "      <td>15 - 16</td>\n",
       "      <td>Male</td>\n",
       "      <td>Australian</td>\n",
       "      <td>Mormon</td>\n",
       "      <td>10</td>\n",
       "      <td>In education (not paid for by employer) even i...</td>\n",
       "      <td>$0 – $18,200</td>\n",
       "      <td>Yes</td>\n",
       "      <td>$200001 - $500000</td>\n",
       "      <td>...</td>\n",
       "      <td>9</td>\n",
       "      <td>9</td>\n",
       "      <td>Communication, Share information, Entertainmen...</td>\n",
       "      <td>Private car</td>\n",
       "      <td>Yes</td>\n",
       "      <td>4</td>\n",
       "      <td>3</td>\n",
       "      <td>1</td>\n",
       "      <td>5</td>\n",
       "      <td>2</td>\n",
       "    </tr>\n",
       "    <tr>\n",
       "      <th>2</th>\n",
       "      <td>11/5/2022 20:56:27</td>\n",
       "      <td>15 - 16</td>\n",
       "      <td>Male</td>\n",
       "      <td>Australian</td>\n",
       "      <td>Christianity</td>\n",
       "      <td>8</td>\n",
       "      <td>In education (not paid for by employer) even i...</td>\n",
       "      <td>$0 – $18,200</td>\n",
       "      <td>Yes</td>\n",
       "      <td>$200001 - $500000</td>\n",
       "      <td>...</td>\n",
       "      <td>9</td>\n",
       "      <td>8</td>\n",
       "      <td>Communication, Share information, Entertainmen...</td>\n",
       "      <td>Private car</td>\n",
       "      <td>Yes</td>\n",
       "      <td>1</td>\n",
       "      <td>4</td>\n",
       "      <td>5</td>\n",
       "      <td>3</td>\n",
       "      <td>2</td>\n",
       "    </tr>\n",
       "    <tr>\n",
       "      <th>3</th>\n",
       "      <td>11/5/2022 21:06:23</td>\n",
       "      <td>15 - 16</td>\n",
       "      <td>Male</td>\n",
       "      <td>Chinese</td>\n",
       "      <td>Catholic</td>\n",
       "      <td>8</td>\n",
       "      <td>In education (not paid for by employer) even i...</td>\n",
       "      <td>$0 – $18,200</td>\n",
       "      <td>Yes</td>\n",
       "      <td>$80,001 - $130,000</td>\n",
       "      <td>...</td>\n",
       "      <td>7</td>\n",
       "      <td>7</td>\n",
       "      <td>Communication, Entertainment</td>\n",
       "      <td>Public transport</td>\n",
       "      <td>No</td>\n",
       "      <td>4</td>\n",
       "      <td>3</td>\n",
       "      <td>2</td>\n",
       "      <td>1</td>\n",
       "      <td>5</td>\n",
       "    </tr>\n",
       "    <tr>\n",
       "      <th>4</th>\n",
       "      <td>11/5/2022 21:08:32</td>\n",
       "      <td>15 - 16</td>\n",
       "      <td>Male</td>\n",
       "      <td>Chinese</td>\n",
       "      <td>Atheist (Non-Religious)</td>\n",
       "      <td>4</td>\n",
       "      <td>Unemployed, wanting a job but not actively loo...</td>\n",
       "      <td>$0 – $18,200</td>\n",
       "      <td>No</td>\n",
       "      <td>$130,001 - $200,000</td>\n",
       "      <td>...</td>\n",
       "      <td>3</td>\n",
       "      <td>8</td>\n",
       "      <td>Share information</td>\n",
       "      <td>Public transport</td>\n",
       "      <td>Yes</td>\n",
       "      <td>4</td>\n",
       "      <td>3</td>\n",
       "      <td>1</td>\n",
       "      <td>5</td>\n",
       "      <td>2</td>\n",
       "    </tr>\n",
       "  </tbody>\n",
       "</table>\n",
       "<p>5 rows × 37 columns</p>\n",
       "</div>"
      ],
      "text/plain": [
       "            Timestamp      AGE GENDER     CULTURE                 RELIGION  \\\n",
       "0  11/5/2022 20:55:53  15 - 16   Male     Chinese  Atheist (Non-Religious)   \n",
       "1  11/5/2022 20:56:17  15 - 16   Male  Australian                   Mormon   \n",
       "2  11/5/2022 20:56:27  15 - 16   Male  Australian             Christianity   \n",
       "3  11/5/2022 21:06:23  15 - 16   Male     Chinese                 Catholic   \n",
       "4  11/5/2022 21:08:32  15 - 16   Male     Chinese  Atheist (Non-Religious)   \n",
       "\n",
       "   ECO1                                               ECO2          ECO3 ECO4  \\\n",
       "0     3  In education (not paid for by employer) even i...  $0 – $18,200  Yes   \n",
       "1    10  In education (not paid for by employer) even i...  $0 – $18,200  Yes   \n",
       "2     8  In education (not paid for by employer) even i...  $0 – $18,200  Yes   \n",
       "3     8  In education (not paid for by employer) even i...  $0 – $18,200  Yes   \n",
       "4     4  Unemployed, wanting a job but not actively loo...  $0 – $18,200   No   \n",
       "\n",
       "                  ECO5  ...  TEC2 TEC3  \\\n",
       "0    $130001 - $200000  ...     9   10   \n",
       "1    $200001 - $500000  ...     9    9   \n",
       "2    $200001 - $500000  ...     9    8   \n",
       "3   $80,001 - $130,000  ...     7    7   \n",
       "4  $130,001 - $200,000  ...     3    8   \n",
       "\n",
       "                                                TEC4              TEC5 TEC6  \\\n",
       "0    Communication, Share information, Entertainment  Public transport   No   \n",
       "1  Communication, Share information, Entertainmen...       Private car  Yes   \n",
       "2  Communication, Share information, Entertainmen...       Private car  Yes   \n",
       "3                       Communication, Entertainment  Public transport   No   \n",
       "4                                  Share information  Public transport  Yes   \n",
       "\n",
       "  ECO_RANK  SOC_RANK  ENV_RANK  POL_RANK  TEC_RANK  \n",
       "0        2         1         5         4         3  \n",
       "1        4         3         1         5         2  \n",
       "2        1         4         5         3         2  \n",
       "3        4         3         2         1         5  \n",
       "4        4         3         1         5         2  \n",
       "\n",
       "[5 rows x 37 columns]"
      ]
     },
     "execution_count": 5,
     "metadata": {},
     "output_type": "execute_result"
    }
   ],
   "source": [
    "df.head()"
   ]
  },
  {
   "cell_type": "code",
   "execution_count": 6,
   "id": "7987c6d5",
   "metadata": {},
   "outputs": [],
   "source": [
    "cols = list(df.columns)\n",
    "cols = [x.lower().strip() for x in cols]\n",
    "df.columns=cols\n",
    "df.drop('timestamp', inplace = True, axis = 1)\n",
    "df = df[df['age'] != '71']"
   ]
  },
  {
   "cell_type": "code",
   "execution_count": 7,
   "id": "7d51fbc4",
   "metadata": {},
   "outputs": [
    {
     "data": {
      "text/html": [
       "<div>\n",
       "<style scoped>\n",
       "    .dataframe tbody tr th:only-of-type {\n",
       "        vertical-align: middle;\n",
       "    }\n",
       "\n",
       "    .dataframe tbody tr th {\n",
       "        vertical-align: top;\n",
       "    }\n",
       "\n",
       "    .dataframe thead th {\n",
       "        text-align: right;\n",
       "    }\n",
       "</style>\n",
       "<table border=\"1\" class=\"dataframe\">\n",
       "  <thead>\n",
       "    <tr style=\"text-align: right;\">\n",
       "      <th></th>\n",
       "      <th>age</th>\n",
       "      <th>gender</th>\n",
       "      <th>culture</th>\n",
       "      <th>religion</th>\n",
       "      <th>eco1</th>\n",
       "      <th>eco2</th>\n",
       "      <th>eco3</th>\n",
       "      <th>eco4</th>\n",
       "      <th>eco5</th>\n",
       "      <th>soc1</th>\n",
       "      <th>...</th>\n",
       "      <th>tec2</th>\n",
       "      <th>tec3</th>\n",
       "      <th>tec4</th>\n",
       "      <th>tec5</th>\n",
       "      <th>tec6</th>\n",
       "      <th>eco_rank</th>\n",
       "      <th>soc_rank</th>\n",
       "      <th>env_rank</th>\n",
       "      <th>pol_rank</th>\n",
       "      <th>tec_rank</th>\n",
       "    </tr>\n",
       "  </thead>\n",
       "  <tbody>\n",
       "    <tr>\n",
       "      <th>0</th>\n",
       "      <td>15 - 16</td>\n",
       "      <td>Male</td>\n",
       "      <td>Chinese</td>\n",
       "      <td>Atheist (Non-Religious)</td>\n",
       "      <td>3</td>\n",
       "      <td>In education (not paid for by employer) even i...</td>\n",
       "      <td>$0 – $18,200</td>\n",
       "      <td>Yes</td>\n",
       "      <td>$130001 - $200000</td>\n",
       "      <td>9</td>\n",
       "      <td>...</td>\n",
       "      <td>9</td>\n",
       "      <td>10</td>\n",
       "      <td>Communication, Share information, Entertainment</td>\n",
       "      <td>Public transport</td>\n",
       "      <td>No</td>\n",
       "      <td>2</td>\n",
       "      <td>1</td>\n",
       "      <td>5</td>\n",
       "      <td>4</td>\n",
       "      <td>3</td>\n",
       "    </tr>\n",
       "    <tr>\n",
       "      <th>1</th>\n",
       "      <td>15 - 16</td>\n",
       "      <td>Male</td>\n",
       "      <td>Australian</td>\n",
       "      <td>Mormon</td>\n",
       "      <td>10</td>\n",
       "      <td>In education (not paid for by employer) even i...</td>\n",
       "      <td>$0 – $18,200</td>\n",
       "      <td>Yes</td>\n",
       "      <td>$200001 - $500000</td>\n",
       "      <td>7</td>\n",
       "      <td>...</td>\n",
       "      <td>9</td>\n",
       "      <td>9</td>\n",
       "      <td>Communication, Share information, Entertainmen...</td>\n",
       "      <td>Private car</td>\n",
       "      <td>Yes</td>\n",
       "      <td>4</td>\n",
       "      <td>3</td>\n",
       "      <td>1</td>\n",
       "      <td>5</td>\n",
       "      <td>2</td>\n",
       "    </tr>\n",
       "    <tr>\n",
       "      <th>2</th>\n",
       "      <td>15 - 16</td>\n",
       "      <td>Male</td>\n",
       "      <td>Australian</td>\n",
       "      <td>Christianity</td>\n",
       "      <td>8</td>\n",
       "      <td>In education (not paid for by employer) even i...</td>\n",
       "      <td>$0 – $18,200</td>\n",
       "      <td>Yes</td>\n",
       "      <td>$200001 - $500000</td>\n",
       "      <td>9</td>\n",
       "      <td>...</td>\n",
       "      <td>9</td>\n",
       "      <td>8</td>\n",
       "      <td>Communication, Share information, Entertainmen...</td>\n",
       "      <td>Private car</td>\n",
       "      <td>Yes</td>\n",
       "      <td>1</td>\n",
       "      <td>4</td>\n",
       "      <td>5</td>\n",
       "      <td>3</td>\n",
       "      <td>2</td>\n",
       "    </tr>\n",
       "    <tr>\n",
       "      <th>3</th>\n",
       "      <td>15 - 16</td>\n",
       "      <td>Male</td>\n",
       "      <td>Chinese</td>\n",
       "      <td>Catholic</td>\n",
       "      <td>8</td>\n",
       "      <td>In education (not paid for by employer) even i...</td>\n",
       "      <td>$0 – $18,200</td>\n",
       "      <td>Yes</td>\n",
       "      <td>$80,001 - $130,000</td>\n",
       "      <td>5</td>\n",
       "      <td>...</td>\n",
       "      <td>7</td>\n",
       "      <td>7</td>\n",
       "      <td>Communication, Entertainment</td>\n",
       "      <td>Public transport</td>\n",
       "      <td>No</td>\n",
       "      <td>4</td>\n",
       "      <td>3</td>\n",
       "      <td>2</td>\n",
       "      <td>1</td>\n",
       "      <td>5</td>\n",
       "    </tr>\n",
       "    <tr>\n",
       "      <th>4</th>\n",
       "      <td>15 - 16</td>\n",
       "      <td>Male</td>\n",
       "      <td>Chinese</td>\n",
       "      <td>Atheist (Non-Religious)</td>\n",
       "      <td>4</td>\n",
       "      <td>Unemployed, wanting a job but not actively loo...</td>\n",
       "      <td>$0 – $18,200</td>\n",
       "      <td>No</td>\n",
       "      <td>$130,001 - $200,000</td>\n",
       "      <td>3</td>\n",
       "      <td>...</td>\n",
       "      <td>3</td>\n",
       "      <td>8</td>\n",
       "      <td>Share information</td>\n",
       "      <td>Public transport</td>\n",
       "      <td>Yes</td>\n",
       "      <td>4</td>\n",
       "      <td>3</td>\n",
       "      <td>1</td>\n",
       "      <td>5</td>\n",
       "      <td>2</td>\n",
       "    </tr>\n",
       "  </tbody>\n",
       "</table>\n",
       "<p>5 rows × 36 columns</p>\n",
       "</div>"
      ],
      "text/plain": [
       "       age gender     culture                 religion  eco1  \\\n",
       "0  15 - 16   Male     Chinese  Atheist (Non-Religious)     3   \n",
       "1  15 - 16   Male  Australian                   Mormon    10   \n",
       "2  15 - 16   Male  Australian             Christianity     8   \n",
       "3  15 - 16   Male     Chinese                 Catholic     8   \n",
       "4  15 - 16   Male     Chinese  Atheist (Non-Religious)     4   \n",
       "\n",
       "                                                eco2          eco3 eco4  \\\n",
       "0  In education (not paid for by employer) even i...  $0 – $18,200  Yes   \n",
       "1  In education (not paid for by employer) even i...  $0 – $18,200  Yes   \n",
       "2  In education (not paid for by employer) even i...  $0 – $18,200  Yes   \n",
       "3  In education (not paid for by employer) even i...  $0 – $18,200  Yes   \n",
       "4  Unemployed, wanting a job but not actively loo...  $0 – $18,200   No   \n",
       "\n",
       "                  eco5  soc1  ... tec2 tec3  \\\n",
       "0    $130001 - $200000     9  ...    9   10   \n",
       "1    $200001 - $500000     7  ...    9    9   \n",
       "2    $200001 - $500000     9  ...    9    8   \n",
       "3   $80,001 - $130,000     5  ...    7    7   \n",
       "4  $130,001 - $200,000     3  ...    3    8   \n",
       "\n",
       "                                                tec4              tec5 tec6  \\\n",
       "0    Communication, Share information, Entertainment  Public transport   No   \n",
       "1  Communication, Share information, Entertainmen...       Private car  Yes   \n",
       "2  Communication, Share information, Entertainmen...       Private car  Yes   \n",
       "3                       Communication, Entertainment  Public transport   No   \n",
       "4                                  Share information  Public transport  Yes   \n",
       "\n",
       "   eco_rank  soc_rank  env_rank  pol_rank  tec_rank  \n",
       "0         2         1         5         4         3  \n",
       "1         4         3         1         5         2  \n",
       "2         1         4         5         3         2  \n",
       "3         4         3         2         1         5  \n",
       "4         4         3         1         5         2  \n",
       "\n",
       "[5 rows x 36 columns]"
      ]
     },
     "execution_count": 7,
     "metadata": {},
     "output_type": "execute_result"
    }
   ],
   "source": [
    "df.head()"
   ]
  },
  {
   "cell_type": "markdown",
   "id": "dd485449",
   "metadata": {},
   "source": [
    "## Finding Trends and Plotting Charts"
   ]
  },
  {
   "cell_type": "code",
   "execution_count": 8,
   "id": "eed0f668",
   "metadata": {},
   "outputs": [],
   "source": [
    "import matplotlib.pyplot as plt\n",
    "import seaborn as sns"
   ]
  },
  {
   "cell_type": "markdown",
   "id": "e428b8de",
   "metadata": {},
   "source": [
    "### Setting up different groups"
   ]
  },
  {
   "cell_type": "code",
   "execution_count": 9,
   "id": "6ed2bd2d",
   "metadata": {},
   "outputs": [
    {
     "name": "stdout",
     "output_type": "stream",
     "text": [
      "27\n"
     ]
    },
    {
     "data": {
      "text/html": [
       "<div>\n",
       "<style scoped>\n",
       "    .dataframe tbody tr th:only-of-type {\n",
       "        vertical-align: middle;\n",
       "    }\n",
       "\n",
       "    .dataframe tbody tr th {\n",
       "        vertical-align: top;\n",
       "    }\n",
       "\n",
       "    .dataframe thead th {\n",
       "        text-align: right;\n",
       "    }\n",
       "</style>\n",
       "<table border=\"1\" class=\"dataframe\">\n",
       "  <thead>\n",
       "    <tr style=\"text-align: right;\">\n",
       "      <th></th>\n",
       "      <th>age</th>\n",
       "      <th>gender</th>\n",
       "      <th>culture</th>\n",
       "      <th>religion</th>\n",
       "      <th>eco1</th>\n",
       "      <th>eco2</th>\n",
       "      <th>eco3</th>\n",
       "      <th>eco4</th>\n",
       "      <th>eco5</th>\n",
       "      <th>soc1</th>\n",
       "      <th>...</th>\n",
       "      <th>tec2</th>\n",
       "      <th>tec3</th>\n",
       "      <th>tec4</th>\n",
       "      <th>tec5</th>\n",
       "      <th>tec6</th>\n",
       "      <th>eco_rank</th>\n",
       "      <th>soc_rank</th>\n",
       "      <th>env_rank</th>\n",
       "      <th>pol_rank</th>\n",
       "      <th>tec_rank</th>\n",
       "    </tr>\n",
       "  </thead>\n",
       "  <tbody>\n",
       "    <tr>\n",
       "      <th>0</th>\n",
       "      <td>15 - 16</td>\n",
       "      <td>Male</td>\n",
       "      <td>Chinese</td>\n",
       "      <td>Atheist (Non-Religious)</td>\n",
       "      <td>3</td>\n",
       "      <td>In education (not paid for by employer) even i...</td>\n",
       "      <td>$0 – $18,200</td>\n",
       "      <td>Yes</td>\n",
       "      <td>$130001 - $200000</td>\n",
       "      <td>9</td>\n",
       "      <td>...</td>\n",
       "      <td>9</td>\n",
       "      <td>10</td>\n",
       "      <td>Communication, Share information, Entertainment</td>\n",
       "      <td>Public transport</td>\n",
       "      <td>No</td>\n",
       "      <td>2</td>\n",
       "      <td>1</td>\n",
       "      <td>5</td>\n",
       "      <td>4</td>\n",
       "      <td>3</td>\n",
       "    </tr>\n",
       "  </tbody>\n",
       "</table>\n",
       "<p>1 rows × 36 columns</p>\n",
       "</div>"
      ],
      "text/plain": [
       "       age gender  culture                 religion  eco1  \\\n",
       "0  15 - 16   Male  Chinese  Atheist (Non-Religious)     3   \n",
       "\n",
       "                                                eco2          eco3 eco4  \\\n",
       "0  In education (not paid for by employer) even i...  $0 – $18,200  Yes   \n",
       "\n",
       "                eco5  soc1  ... tec2 tec3  \\\n",
       "0  $130001 - $200000     9  ...    9   10   \n",
       "\n",
       "                                              tec4              tec5 tec6  \\\n",
       "0  Communication, Share information, Entertainment  Public transport   No   \n",
       "\n",
       "   eco_rank  soc_rank  env_rank  pol_rank  tec_rank  \n",
       "0         2         1         5         4         3  \n",
       "\n",
       "[1 rows x 36 columns]"
      ]
     },
     "execution_count": 9,
     "metadata": {},
     "output_type": "execute_result"
    }
   ],
   "source": [
    "# 15-16\n",
    "youngdf = df[df['age'] == \"15 - 16\"]\n",
    "print(youngdf.shape[0])\n",
    "youngdf.head(1)"
   ]
  },
  {
   "cell_type": "code",
   "execution_count": 10,
   "id": "d270c5ab",
   "metadata": {},
   "outputs": [
    {
     "name": "stdout",
     "output_type": "stream",
     "text": [
      "20\n"
     ]
    },
    {
     "data": {
      "text/html": [
       "<div>\n",
       "<style scoped>\n",
       "    .dataframe tbody tr th:only-of-type {\n",
       "        vertical-align: middle;\n",
       "    }\n",
       "\n",
       "    .dataframe tbody tr th {\n",
       "        vertical-align: top;\n",
       "    }\n",
       "\n",
       "    .dataframe thead th {\n",
       "        text-align: right;\n",
       "    }\n",
       "</style>\n",
       "<table border=\"1\" class=\"dataframe\">\n",
       "  <thead>\n",
       "    <tr style=\"text-align: right;\">\n",
       "      <th></th>\n",
       "      <th>age</th>\n",
       "      <th>gender</th>\n",
       "      <th>culture</th>\n",
       "      <th>religion</th>\n",
       "      <th>eco1</th>\n",
       "      <th>eco2</th>\n",
       "      <th>eco3</th>\n",
       "      <th>eco4</th>\n",
       "      <th>eco5</th>\n",
       "      <th>soc1</th>\n",
       "      <th>...</th>\n",
       "      <th>tec2</th>\n",
       "      <th>tec3</th>\n",
       "      <th>tec4</th>\n",
       "      <th>tec5</th>\n",
       "      <th>tec6</th>\n",
       "      <th>eco_rank</th>\n",
       "      <th>soc_rank</th>\n",
       "      <th>env_rank</th>\n",
       "      <th>pol_rank</th>\n",
       "      <th>tec_rank</th>\n",
       "    </tr>\n",
       "  </thead>\n",
       "  <tbody>\n",
       "    <tr>\n",
       "      <th>28</th>\n",
       "      <td>30 - 60</td>\n",
       "      <td>Female</td>\n",
       "      <td>Chinese</td>\n",
       "      <td>Atheist (Non-Religious)</td>\n",
       "      <td>9</td>\n",
       "      <td>In paid work (or away temporarily) (employee, ...</td>\n",
       "      <td>$45,001 – $120,000</td>\n",
       "      <td>Yes</td>\n",
       "      <td>$130,001 - $200,000</td>\n",
       "      <td>10</td>\n",
       "      <td>...</td>\n",
       "      <td>7</td>\n",
       "      <td>5</td>\n",
       "      <td>Entertainment</td>\n",
       "      <td>Public transport</td>\n",
       "      <td>Yes</td>\n",
       "      <td>2</td>\n",
       "      <td>4</td>\n",
       "      <td>1</td>\n",
       "      <td>3</td>\n",
       "      <td>5</td>\n",
       "    </tr>\n",
       "  </tbody>\n",
       "</table>\n",
       "<p>1 rows × 36 columns</p>\n",
       "</div>"
      ],
      "text/plain": [
       "        age  gender  culture                 religion  eco1  \\\n",
       "28  30 - 60  Female  Chinese  Atheist (Non-Religious)     9   \n",
       "\n",
       "                                                 eco2                eco3  \\\n",
       "28  In paid work (or away temporarily) (employee, ...  $45,001 – $120,000   \n",
       "\n",
       "   eco4                 eco5  soc1  ... tec2 tec3           tec4  \\\n",
       "28  Yes  $130,001 - $200,000    10  ...    7    5  Entertainment   \n",
       "\n",
       "                tec5 tec6  eco_rank  soc_rank  env_rank  pol_rank  tec_rank  \n",
       "28  Public transport  Yes         2         4         1         3         5  \n",
       "\n",
       "[1 rows x 36 columns]"
      ]
     },
     "execution_count": 10,
     "metadata": {},
     "output_type": "execute_result"
    }
   ],
   "source": [
    "# 30-60\n",
    "olddf = df[df['age'] == '30 - 60']\n",
    "print(olddf.shape[0])\n",
    "olddf.head(1)"
   ]
  },
  {
   "cell_type": "code",
   "execution_count": 11,
   "id": "29fd8cfe",
   "metadata": {},
   "outputs": [
    {
     "name": "stdout",
     "output_type": "stream",
     "text": [
      "22\n"
     ]
    },
    {
     "data": {
      "text/html": [
       "<div>\n",
       "<style scoped>\n",
       "    .dataframe tbody tr th:only-of-type {\n",
       "        vertical-align: middle;\n",
       "    }\n",
       "\n",
       "    .dataframe tbody tr th {\n",
       "        vertical-align: top;\n",
       "    }\n",
       "\n",
       "    .dataframe thead th {\n",
       "        text-align: right;\n",
       "    }\n",
       "</style>\n",
       "<table border=\"1\" class=\"dataframe\">\n",
       "  <thead>\n",
       "    <tr style=\"text-align: right;\">\n",
       "      <th></th>\n",
       "      <th>age</th>\n",
       "      <th>gender</th>\n",
       "      <th>culture</th>\n",
       "      <th>religion</th>\n",
       "      <th>eco1</th>\n",
       "      <th>eco2</th>\n",
       "      <th>eco3</th>\n",
       "      <th>eco4</th>\n",
       "      <th>eco5</th>\n",
       "      <th>soc1</th>\n",
       "      <th>...</th>\n",
       "      <th>tec2</th>\n",
       "      <th>tec3</th>\n",
       "      <th>tec4</th>\n",
       "      <th>tec5</th>\n",
       "      <th>tec6</th>\n",
       "      <th>eco_rank</th>\n",
       "      <th>soc_rank</th>\n",
       "      <th>env_rank</th>\n",
       "      <th>pol_rank</th>\n",
       "      <th>tec_rank</th>\n",
       "    </tr>\n",
       "  </thead>\n",
       "  <tbody>\n",
       "    <tr>\n",
       "      <th>1</th>\n",
       "      <td>15 - 16</td>\n",
       "      <td>Male</td>\n",
       "      <td>Australian</td>\n",
       "      <td>Mormon</td>\n",
       "      <td>10</td>\n",
       "      <td>In education (not paid for by employer) even i...</td>\n",
       "      <td>$0 – $18,200</td>\n",
       "      <td>Yes</td>\n",
       "      <td>$200001 - $500000</td>\n",
       "      <td>7</td>\n",
       "      <td>...</td>\n",
       "      <td>9</td>\n",
       "      <td>9</td>\n",
       "      <td>Communication, Share information, Entertainmen...</td>\n",
       "      <td>Private car</td>\n",
       "      <td>Yes</td>\n",
       "      <td>4</td>\n",
       "      <td>3</td>\n",
       "      <td>1</td>\n",
       "      <td>5</td>\n",
       "      <td>2</td>\n",
       "    </tr>\n",
       "  </tbody>\n",
       "</table>\n",
       "<p>1 rows × 36 columns</p>\n",
       "</div>"
      ],
      "text/plain": [
       "       age gender     culture religion  eco1  \\\n",
       "1  15 - 16   Male  Australian   Mormon    10   \n",
       "\n",
       "                                                eco2          eco3 eco4  \\\n",
       "1  In education (not paid for by employer) even i...  $0 – $18,200  Yes   \n",
       "\n",
       "                eco5  soc1  ... tec2 tec3  \\\n",
       "1  $200001 - $500000     7  ...    9    9   \n",
       "\n",
       "                                                tec4         tec5 tec6  \\\n",
       "1  Communication, Share information, Entertainmen...  Private car  Yes   \n",
       "\n",
       "   eco_rank  soc_rank  env_rank  pol_rank  tec_rank  \n",
       "1         4         3         1         5         2  \n",
       "\n",
       "[1 rows x 36 columns]"
      ]
     },
     "execution_count": 11,
     "metadata": {},
     "output_type": "execute_result"
    }
   ],
   "source": [
    "# Australians\n",
    "ausdf = df[df['culture']=='Australian']\n",
    "print(ausdf.shape[0])\n",
    "ausdf.head(1)"
   ]
  },
  {
   "cell_type": "code",
   "execution_count": 12,
   "id": "1ec52a94",
   "metadata": {},
   "outputs": [
    {
     "name": "stdout",
     "output_type": "stream",
     "text": [
      "13\n"
     ]
    },
    {
     "data": {
      "text/html": [
       "<div>\n",
       "<style scoped>\n",
       "    .dataframe tbody tr th:only-of-type {\n",
       "        vertical-align: middle;\n",
       "    }\n",
       "\n",
       "    .dataframe tbody tr th {\n",
       "        vertical-align: top;\n",
       "    }\n",
       "\n",
       "    .dataframe thead th {\n",
       "        text-align: right;\n",
       "    }\n",
       "</style>\n",
       "<table border=\"1\" class=\"dataframe\">\n",
       "  <thead>\n",
       "    <tr style=\"text-align: right;\">\n",
       "      <th></th>\n",
       "      <th>age</th>\n",
       "      <th>gender</th>\n",
       "      <th>culture</th>\n",
       "      <th>religion</th>\n",
       "      <th>eco1</th>\n",
       "      <th>eco2</th>\n",
       "      <th>eco3</th>\n",
       "      <th>eco4</th>\n",
       "      <th>eco5</th>\n",
       "      <th>soc1</th>\n",
       "      <th>...</th>\n",
       "      <th>tec2</th>\n",
       "      <th>tec3</th>\n",
       "      <th>tec4</th>\n",
       "      <th>tec5</th>\n",
       "      <th>tec6</th>\n",
       "      <th>eco_rank</th>\n",
       "      <th>soc_rank</th>\n",
       "      <th>env_rank</th>\n",
       "      <th>pol_rank</th>\n",
       "      <th>tec_rank</th>\n",
       "    </tr>\n",
       "  </thead>\n",
       "  <tbody>\n",
       "    <tr>\n",
       "      <th>0</th>\n",
       "      <td>15 - 16</td>\n",
       "      <td>Male</td>\n",
       "      <td>Chinese</td>\n",
       "      <td>Atheist (Non-Religious)</td>\n",
       "      <td>3</td>\n",
       "      <td>In education (not paid for by employer) even i...</td>\n",
       "      <td>$0 – $18,200</td>\n",
       "      <td>Yes</td>\n",
       "      <td>$130001 - $200000</td>\n",
       "      <td>9</td>\n",
       "      <td>...</td>\n",
       "      <td>9</td>\n",
       "      <td>10</td>\n",
       "      <td>Communication, Share information, Entertainment</td>\n",
       "      <td>Public transport</td>\n",
       "      <td>No</td>\n",
       "      <td>2</td>\n",
       "      <td>1</td>\n",
       "      <td>5</td>\n",
       "      <td>4</td>\n",
       "      <td>3</td>\n",
       "    </tr>\n",
       "  </tbody>\n",
       "</table>\n",
       "<p>1 rows × 36 columns</p>\n",
       "</div>"
      ],
      "text/plain": [
       "       age gender  culture                 religion  eco1  \\\n",
       "0  15 - 16   Male  Chinese  Atheist (Non-Religious)     3   \n",
       "\n",
       "                                                eco2          eco3 eco4  \\\n",
       "0  In education (not paid for by employer) even i...  $0 – $18,200  Yes   \n",
       "\n",
       "                eco5  soc1  ... tec2 tec3  \\\n",
       "0  $130001 - $200000     9  ...    9   10   \n",
       "\n",
       "                                              tec4              tec5 tec6  \\\n",
       "0  Communication, Share information, Entertainment  Public transport   No   \n",
       "\n",
       "   eco_rank  soc_rank  env_rank  pol_rank  tec_rank  \n",
       "0         2         1         5         4         3  \n",
       "\n",
       "[1 rows x 36 columns]"
      ]
     },
     "execution_count": 12,
     "metadata": {},
     "output_type": "execute_result"
    }
   ],
   "source": [
    "#Chinese\n",
    "chidf = df[df['culture']=='Chinese']\n",
    "print(chidf.shape[0])\n",
    "chidf.head(1)"
   ]
  },
  {
   "cell_type": "code",
   "execution_count": 13,
   "id": "67560b55",
   "metadata": {},
   "outputs": [
    {
     "name": "stdout",
     "output_type": "stream",
     "text": [
      "27\n"
     ]
    },
    {
     "data": {
      "text/html": [
       "<div>\n",
       "<style scoped>\n",
       "    .dataframe tbody tr th:only-of-type {\n",
       "        vertical-align: middle;\n",
       "    }\n",
       "\n",
       "    .dataframe tbody tr th {\n",
       "        vertical-align: top;\n",
       "    }\n",
       "\n",
       "    .dataframe thead th {\n",
       "        text-align: right;\n",
       "    }\n",
       "</style>\n",
       "<table border=\"1\" class=\"dataframe\">\n",
       "  <thead>\n",
       "    <tr style=\"text-align: right;\">\n",
       "      <th></th>\n",
       "      <th>age</th>\n",
       "      <th>gender</th>\n",
       "      <th>culture</th>\n",
       "      <th>religion</th>\n",
       "      <th>eco1</th>\n",
       "      <th>eco2</th>\n",
       "      <th>eco3</th>\n",
       "      <th>eco4</th>\n",
       "      <th>eco5</th>\n",
       "      <th>soc1</th>\n",
       "      <th>...</th>\n",
       "      <th>tec2</th>\n",
       "      <th>tec3</th>\n",
       "      <th>tec4</th>\n",
       "      <th>tec5</th>\n",
       "      <th>tec6</th>\n",
       "      <th>eco_rank</th>\n",
       "      <th>soc_rank</th>\n",
       "      <th>env_rank</th>\n",
       "      <th>pol_rank</th>\n",
       "      <th>tec_rank</th>\n",
       "    </tr>\n",
       "  </thead>\n",
       "  <tbody>\n",
       "    <tr>\n",
       "      <th>0</th>\n",
       "      <td>15 - 16</td>\n",
       "      <td>Male</td>\n",
       "      <td>Chinese</td>\n",
       "      <td>Atheist (Non-Religious)</td>\n",
       "      <td>3</td>\n",
       "      <td>In education (not paid for by employer) even i...</td>\n",
       "      <td>$0 – $18,200</td>\n",
       "      <td>Yes</td>\n",
       "      <td>$130001 - $200000</td>\n",
       "      <td>9</td>\n",
       "      <td>...</td>\n",
       "      <td>9</td>\n",
       "      <td>10</td>\n",
       "      <td>Communication, Share information, Entertainment</td>\n",
       "      <td>Public transport</td>\n",
       "      <td>No</td>\n",
       "      <td>2</td>\n",
       "      <td>1</td>\n",
       "      <td>5</td>\n",
       "      <td>4</td>\n",
       "      <td>3</td>\n",
       "    </tr>\n",
       "  </tbody>\n",
       "</table>\n",
       "<p>1 rows × 36 columns</p>\n",
       "</div>"
      ],
      "text/plain": [
       "       age gender  culture                 religion  eco1  \\\n",
       "0  15 - 16   Male  Chinese  Atheist (Non-Religious)     3   \n",
       "\n",
       "                                                eco2          eco3 eco4  \\\n",
       "0  In education (not paid for by employer) even i...  $0 – $18,200  Yes   \n",
       "\n",
       "                eco5  soc1  ... tec2 tec3  \\\n",
       "0  $130001 - $200000     9  ...    9   10   \n",
       "\n",
       "                                              tec4              tec5 tec6  \\\n",
       "0  Communication, Share information, Entertainment  Public transport   No   \n",
       "\n",
       "   eco_rank  soc_rank  env_rank  pol_rank  tec_rank  \n",
       "0         2         1         5         4         3  \n",
       "\n",
       "[1 rows x 36 columns]"
      ]
     },
     "execution_count": 13,
     "metadata": {},
     "output_type": "execute_result"
    }
   ],
   "source": [
    "#Male\n",
    "mdf = df[df['gender'] == 'Male']\n",
    "print(mdf.shape[0])\n",
    "mdf.head(1)"
   ]
  },
  {
   "cell_type": "code",
   "execution_count": 14,
   "id": "9ba97278",
   "metadata": {},
   "outputs": [
    {
     "name": "stdout",
     "output_type": "stream",
     "text": [
      "19\n"
     ]
    },
    {
     "data": {
      "text/html": [
       "<div>\n",
       "<style scoped>\n",
       "    .dataframe tbody tr th:only-of-type {\n",
       "        vertical-align: middle;\n",
       "    }\n",
       "\n",
       "    .dataframe tbody tr th {\n",
       "        vertical-align: top;\n",
       "    }\n",
       "\n",
       "    .dataframe thead th {\n",
       "        text-align: right;\n",
       "    }\n",
       "</style>\n",
       "<table border=\"1\" class=\"dataframe\">\n",
       "  <thead>\n",
       "    <tr style=\"text-align: right;\">\n",
       "      <th></th>\n",
       "      <th>age</th>\n",
       "      <th>gender</th>\n",
       "      <th>culture</th>\n",
       "      <th>religion</th>\n",
       "      <th>eco1</th>\n",
       "      <th>eco2</th>\n",
       "      <th>eco3</th>\n",
       "      <th>eco4</th>\n",
       "      <th>eco5</th>\n",
       "      <th>soc1</th>\n",
       "      <th>...</th>\n",
       "      <th>tec2</th>\n",
       "      <th>tec3</th>\n",
       "      <th>tec4</th>\n",
       "      <th>tec5</th>\n",
       "      <th>tec6</th>\n",
       "      <th>eco_rank</th>\n",
       "      <th>soc_rank</th>\n",
       "      <th>env_rank</th>\n",
       "      <th>pol_rank</th>\n",
       "      <th>tec_rank</th>\n",
       "    </tr>\n",
       "  </thead>\n",
       "  <tbody>\n",
       "    <tr>\n",
       "      <th>8</th>\n",
       "      <td>15 - 16</td>\n",
       "      <td>Female</td>\n",
       "      <td>Chinese</td>\n",
       "      <td>Atheist (Non-Religious)</td>\n",
       "      <td>5</td>\n",
       "      <td>In education (not paid for by employer) even i...</td>\n",
       "      <td>$0 – $18,200</td>\n",
       "      <td>No</td>\n",
       "      <td>Below $20000</td>\n",
       "      <td>9</td>\n",
       "      <td>...</td>\n",
       "      <td>5</td>\n",
       "      <td>8</td>\n",
       "      <td>Entertainment</td>\n",
       "      <td>Private car</td>\n",
       "      <td>Yes</td>\n",
       "      <td>1</td>\n",
       "      <td>2</td>\n",
       "      <td>5</td>\n",
       "      <td>4</td>\n",
       "      <td>3</td>\n",
       "    </tr>\n",
       "  </tbody>\n",
       "</table>\n",
       "<p>1 rows × 36 columns</p>\n",
       "</div>"
      ],
      "text/plain": [
       "       age  gender  culture                 religion  eco1  \\\n",
       "8  15 - 16  Female  Chinese  Atheist (Non-Religious)     5   \n",
       "\n",
       "                                                eco2          eco3 eco4  \\\n",
       "8  In education (not paid for by employer) even i...  $0 – $18,200   No   \n",
       "\n",
       "           eco5  soc1  ... tec2 tec3           tec4         tec5 tec6  \\\n",
       "8  Below $20000     9  ...    5    8  Entertainment  Private car  Yes   \n",
       "\n",
       "   eco_rank  soc_rank  env_rank  pol_rank  tec_rank  \n",
       "8         1         2         5         4         3  \n",
       "\n",
       "[1 rows x 36 columns]"
      ]
     },
     "execution_count": 14,
     "metadata": {},
     "output_type": "execute_result"
    }
   ],
   "source": [
    "#Female\n",
    "fdf = df[df['gender'] == 'Female']\n",
    "print(fdf.shape[0])\n",
    "fdf.head(1)"
   ]
  },
  {
   "cell_type": "code",
   "execution_count": 15,
   "id": "82bf7051",
   "metadata": {},
   "outputs": [
    {
     "name": "stdout",
     "output_type": "stream",
     "text": [
      "23\n"
     ]
    },
    {
     "data": {
      "text/html": [
       "<div>\n",
       "<style scoped>\n",
       "    .dataframe tbody tr th:only-of-type {\n",
       "        vertical-align: middle;\n",
       "    }\n",
       "\n",
       "    .dataframe tbody tr th {\n",
       "        vertical-align: top;\n",
       "    }\n",
       "\n",
       "    .dataframe thead th {\n",
       "        text-align: right;\n",
       "    }\n",
       "</style>\n",
       "<table border=\"1\" class=\"dataframe\">\n",
       "  <thead>\n",
       "    <tr style=\"text-align: right;\">\n",
       "      <th></th>\n",
       "      <th>age</th>\n",
       "      <th>gender</th>\n",
       "      <th>culture</th>\n",
       "      <th>religion</th>\n",
       "      <th>eco1</th>\n",
       "      <th>eco2</th>\n",
       "      <th>eco3</th>\n",
       "      <th>eco4</th>\n",
       "      <th>eco5</th>\n",
       "      <th>soc1</th>\n",
       "      <th>...</th>\n",
       "      <th>tec2</th>\n",
       "      <th>tec3</th>\n",
       "      <th>tec4</th>\n",
       "      <th>tec5</th>\n",
       "      <th>tec6</th>\n",
       "      <th>eco_rank</th>\n",
       "      <th>soc_rank</th>\n",
       "      <th>env_rank</th>\n",
       "      <th>pol_rank</th>\n",
       "      <th>tec_rank</th>\n",
       "    </tr>\n",
       "  </thead>\n",
       "  <tbody>\n",
       "    <tr>\n",
       "      <th>2</th>\n",
       "      <td>15 - 16</td>\n",
       "      <td>Male</td>\n",
       "      <td>Australian</td>\n",
       "      <td>Christianity</td>\n",
       "      <td>8</td>\n",
       "      <td>In education (not paid for by employer) even i...</td>\n",
       "      <td>$0 – $18,200</td>\n",
       "      <td>Yes</td>\n",
       "      <td>$200001 - $500000</td>\n",
       "      <td>9</td>\n",
       "      <td>...</td>\n",
       "      <td>9</td>\n",
       "      <td>8</td>\n",
       "      <td>Communication, Share information, Entertainmen...</td>\n",
       "      <td>Private car</td>\n",
       "      <td>Yes</td>\n",
       "      <td>1</td>\n",
       "      <td>4</td>\n",
       "      <td>5</td>\n",
       "      <td>3</td>\n",
       "      <td>2</td>\n",
       "    </tr>\n",
       "  </tbody>\n",
       "</table>\n",
       "<p>1 rows × 36 columns</p>\n",
       "</div>"
      ],
      "text/plain": [
       "       age gender     culture      religion  eco1  \\\n",
       "2  15 - 16   Male  Australian  Christianity     8   \n",
       "\n",
       "                                                eco2          eco3 eco4  \\\n",
       "2  In education (not paid for by employer) even i...  $0 – $18,200  Yes   \n",
       "\n",
       "                eco5  soc1  ... tec2 tec3  \\\n",
       "2  $200001 - $500000     9  ...    9    8   \n",
       "\n",
       "                                                tec4         tec5 tec6  \\\n",
       "2  Communication, Share information, Entertainmen...  Private car  Yes   \n",
       "\n",
       "   eco_rank  soc_rank  env_rank  pol_rank  tec_rank  \n",
       "2         1         4         5         3         2  \n",
       "\n",
       "[1 rows x 36 columns]"
      ]
     },
     "execution_count": 15,
     "metadata": {},
     "output_type": "execute_result"
    }
   ],
   "source": [
    "#Christian\n",
    "chrdf = df[df['religion'] == 'Christianity']\n",
    "print(chrdf.shape[0])\n",
    "chrdf.head(1)"
   ]
  },
  {
   "cell_type": "code",
   "execution_count": 16,
   "id": "95dc40ee",
   "metadata": {},
   "outputs": [
    {
     "name": "stdout",
     "output_type": "stream",
     "text": [
      "12\n"
     ]
    },
    {
     "data": {
      "text/html": [
       "<div>\n",
       "<style scoped>\n",
       "    .dataframe tbody tr th:only-of-type {\n",
       "        vertical-align: middle;\n",
       "    }\n",
       "\n",
       "    .dataframe tbody tr th {\n",
       "        vertical-align: top;\n",
       "    }\n",
       "\n",
       "    .dataframe thead th {\n",
       "        text-align: right;\n",
       "    }\n",
       "</style>\n",
       "<table border=\"1\" class=\"dataframe\">\n",
       "  <thead>\n",
       "    <tr style=\"text-align: right;\">\n",
       "      <th></th>\n",
       "      <th>age</th>\n",
       "      <th>gender</th>\n",
       "      <th>culture</th>\n",
       "      <th>religion</th>\n",
       "      <th>eco1</th>\n",
       "      <th>eco2</th>\n",
       "      <th>eco3</th>\n",
       "      <th>eco4</th>\n",
       "      <th>eco5</th>\n",
       "      <th>soc1</th>\n",
       "      <th>...</th>\n",
       "      <th>tec2</th>\n",
       "      <th>tec3</th>\n",
       "      <th>tec4</th>\n",
       "      <th>tec5</th>\n",
       "      <th>tec6</th>\n",
       "      <th>eco_rank</th>\n",
       "      <th>soc_rank</th>\n",
       "      <th>env_rank</th>\n",
       "      <th>pol_rank</th>\n",
       "      <th>tec_rank</th>\n",
       "    </tr>\n",
       "  </thead>\n",
       "  <tbody>\n",
       "    <tr>\n",
       "      <th>0</th>\n",
       "      <td>15 - 16</td>\n",
       "      <td>Male</td>\n",
       "      <td>Chinese</td>\n",
       "      <td>Atheist (Non-Religious)</td>\n",
       "      <td>3</td>\n",
       "      <td>In education (not paid for by employer) even i...</td>\n",
       "      <td>$0 – $18,200</td>\n",
       "      <td>Yes</td>\n",
       "      <td>$130001 - $200000</td>\n",
       "      <td>9</td>\n",
       "      <td>...</td>\n",
       "      <td>9</td>\n",
       "      <td>10</td>\n",
       "      <td>Communication, Share information, Entertainment</td>\n",
       "      <td>Public transport</td>\n",
       "      <td>No</td>\n",
       "      <td>2</td>\n",
       "      <td>1</td>\n",
       "      <td>5</td>\n",
       "      <td>4</td>\n",
       "      <td>3</td>\n",
       "    </tr>\n",
       "  </tbody>\n",
       "</table>\n",
       "<p>1 rows × 36 columns</p>\n",
       "</div>"
      ],
      "text/plain": [
       "       age gender  culture                 religion  eco1  \\\n",
       "0  15 - 16   Male  Chinese  Atheist (Non-Religious)     3   \n",
       "\n",
       "                                                eco2          eco3 eco4  \\\n",
       "0  In education (not paid for by employer) even i...  $0 – $18,200  Yes   \n",
       "\n",
       "                eco5  soc1  ... tec2 tec3  \\\n",
       "0  $130001 - $200000     9  ...    9   10   \n",
       "\n",
       "                                              tec4              tec5 tec6  \\\n",
       "0  Communication, Share information, Entertainment  Public transport   No   \n",
       "\n",
       "   eco_rank  soc_rank  env_rank  pol_rank  tec_rank  \n",
       "0         2         1         5         4         3  \n",
       "\n",
       "[1 rows x 36 columns]"
      ]
     },
     "execution_count": 16,
     "metadata": {},
     "output_type": "execute_result"
    }
   ],
   "source": [
    "#Athiest\n",
    "athdf = df[df['religion'] == 'Atheist (Non-Religious)']\n",
    "print(athdf.shape[0])\n",
    "athdf.head(1)"
   ]
  },
  {
   "cell_type": "markdown",
   "id": "7c2af914",
   "metadata": {},
   "source": [
    "### Finding Trends in their rankings"
   ]
  },
  {
   "cell_type": "code",
   "execution_count": 17,
   "id": "67d1eb2f",
   "metadata": {},
   "outputs": [],
   "source": [
    "rank_cols = ['eco_rank', 'soc_rank', 'env_rank', 'pol_rank', 'tec_rank']"
   ]
  },
  {
   "cell_type": "code",
   "execution_count": 18,
   "id": "dd361e7d",
   "metadata": {},
   "outputs": [],
   "source": [
    "def rank_df_to_np(df, rank_cols):\n",
    "    df = df[['eco_rank', 'soc_rank', 'env_rank', 'pol_rank', 'tec_rank']]\n",
    "    A = df['eco_rank'].to_numpy()\n",
    "    B = df['soc_rank'].to_numpy()\n",
    "    C = df['env_rank'].to_numpy()\n",
    "    D = df['pol_rank'].to_numpy()\n",
    "    E = df['tec_rank'].to_numpy()\n",
    "    print(df.shape[0], 'responses found...')\n",
    "    return A,B,C,D,E\n",
    "\n",
    "def array_to_mode(array):\n",
    "    vals, counts = np.unique(array, return_counts=True)\n",
    "    mode_value = np.argwhere(counts == np.max(counts))\n",
    "    print(\"The mode for\", array, 'is',vals[mode_value].flatten().tolist(), 'for', np.max(counts), 'times')\n",
    "    return None\n",
    "\n",
    "# turns a specific column in a dataframe into frequency data\n",
    "def df_to_stats(df, unique, col): \n",
    "    new_df = df[col]\n",
    "    df_np = new_df.to_numpy()\n",
    "    \n",
    "    values = []\n",
    "    \n",
    "    for record in unique: \n",
    "        count = np.count_nonzero(df_np == record)\n",
    "        print(\"The number of\", record, \"is\", count)\n",
    "    print('\\n')"
   ]
  },
  {
   "cell_type": "code",
   "execution_count": 19,
   "id": "d5d5e83d",
   "metadata": {},
   "outputs": [
    {
     "name": "stdout",
     "output_type": "stream",
     "text": [
      "27 responses found...\n",
      "The mode for [2 4 1 4 4 2 1 1 1 2 2 4 2 4 3 3 2 3 4 4 4 3 3 5 2 3 3] is [4] for 8 times\n",
      "The mode for [1 3 4 3 3 1 2 2 2 1 4 5 1 1 1 2 3 1 1 2 5 4 4 3 5 1 4] is [1] for 9 times\n",
      "The mode for [5 1 5 2 1 4 3 4 5 5 3 2 4 2 2 1 4 2 2 5 2 1 5 1 4 4 2] is [2] for 8 times\n",
      "The mode for [4 5 3 1 5 5 5 3 4 4 1 1 5 5 4 4 5 5 5 3 1 5 2 2 1 5 5] is [5] for 12 times\n",
      "The mode for [3 2 2 5 2 3 4 5 3 3 5 3 3 3 5 5 1 4 3 1 3 2 1 4 3 2 1] is [3] for 10 times\n"
     ]
    }
   ],
   "source": [
    "#15-16 Rankings\n",
    "A,B,C,D,E = rank_df_to_np(youngdf, rank_cols)\n",
    "array_to_mode(A)\n",
    "array_to_mode(B)\n",
    "array_to_mode(C)\n",
    "array_to_mode(D)\n",
    "array_to_mode(E)"
   ]
  },
  {
   "cell_type": "code",
   "execution_count": 20,
   "id": "4dd9f4d2",
   "metadata": {},
   "outputs": [
    {
     "name": "stdout",
     "output_type": "stream",
     "text": [
      "20 responses found...\n",
      "The mode for [2 1 1 5 2 4 2 3 4 3 1 1 3 3 2 3 3 1 3 3] is [3] for 8 times\n",
      "The mode for [4 4 2 3 5 1 1 5 1 1 2 4 1 1 1 5 1 2 1 1] is [1] for 10 times\n",
      "The mode for [1 2 3 1 4 2 4 4 2 4 4 2 2 2 4 2 4 4 2 4] is [4] for 9 times\n",
      "The mode for [3 5 4 4 3 3 3 2 3 2 3 5 5 5 5 1 2 3 4 5] is [3] for 7 times\n",
      "The mode for [5 3 5 2 1 5 5 1 5 5 5 3 4 4 3 4 5 5 5 2] is [5] for 10 times\n"
     ]
    }
   ],
   "source": [
    "#30-60 Rankings\n",
    "A,B,C,D,E = rank_df_to_np(olddf, rank_cols)\n",
    "array_to_mode(A)\n",
    "array_to_mode(B)\n",
    "array_to_mode(C)\n",
    "array_to_mode(D)\n",
    "array_to_mode(E)"
   ]
  },
  {
   "cell_type": "code",
   "execution_count": 21,
   "id": "0fb60b7a",
   "metadata": {},
   "outputs": [
    {
     "name": "stdout",
     "output_type": "stream",
     "text": [
      "22 responses found...\n",
      "The mode for [4 1 4 2 4 3 3 4 4 2 1 2 4 3 3 1 3 3 2 3 3 3] is [3] for 9 times\n",
      "The mode for [3 4 5 1 1 1 2 1 5 5 2 5 1 5 1 2 1 1 1 5 1 1] is [1] for 11 times\n",
      "The mode for [1 5 2 4 2 2 1 2 2 4 3 4 2 4 4 4 2 2 4 2 4 4] is [2, 4] for 9 times\n",
      "The mode for [5 3 1 5 5 4 4 5 1 1 4 3 3 2 2 3 5 5 5 1 2 5] is [5] for 8 times\n",
      "The mode for [2 2 3 3 3 5 5 3 3 3 5 1 5 1 5 5 4 4 3 4 5 2] is [3, 5] for 7 times\n"
     ]
    }
   ],
   "source": [
    "#Australian Rankings\n",
    "A,B,C,D,E = rank_df_to_np(ausdf, rank_cols)\n",
    "array_to_mode(A)\n",
    "array_to_mode(B)\n",
    "array_to_mode(C)\n",
    "array_to_mode(D)\n",
    "array_to_mode(E)"
   ]
  },
  {
   "cell_type": "code",
   "execution_count": 22,
   "id": "5fb432b0",
   "metadata": {},
   "outputs": [
    {
     "name": "stdout",
     "output_type": "stream",
     "text": [
      "13 responses found...\n",
      "The mode for [2 4 4 1 1 1 2 3 2 1 5 2 1] is [1] for 5 times\n",
      "The mode for [1 3 3 2 2 2 3 4 4 4 3 1 4] is [3, 4] for 4 times\n",
      "The mode for [5 2 1 3 4 5 4 5 1 2 1 4 2] is [1, 2, 4, 5] for 3 times\n",
      "The mode for [4 1 5 5 3 4 5 2 3 5 4 3 5] is [5] for 5 times\n",
      "The mode for [3 5 2 4 5 3 1 1 5 3 2 5 3] is [3, 5] for 4 times\n"
     ]
    }
   ],
   "source": [
    "#Chinese Rankings\n",
    "A,B,C,D,E = rank_df_to_np(chidf, rank_cols)\n",
    "array_to_mode(A)\n",
    "array_to_mode(B)\n",
    "array_to_mode(C)\n",
    "array_to_mode(D)\n",
    "array_to_mode(E)"
   ]
  },
  {
   "cell_type": "code",
   "execution_count": 23,
   "id": "39de216f",
   "metadata": {},
   "outputs": [
    {
     "name": "stdout",
     "output_type": "stream",
     "text": [
      "27 responses found...\n",
      "The mode for [2 4 1 4 4 1 1 2 2 4 2 2 3 4 4 3 3 5 2 3 3 1 1 3 3 1 3] is [3] for 8 times\n",
      "The mode for [1 3 4 3 3 2 2 1 4 5 1 3 1 2 5 4 4 3 5 1 4 4 4 1 1 2 1] is [1] for 8 times\n",
      "The mode for [5 1 5 2 1 3 4 5 3 2 4 4 2 5 2 1 5 1 4 4 2 2 2 2 4 4 2] is [2] for 9 times\n",
      "The mode for [4 5 3 1 5 5 3 4 1 1 5 5 5 3 1 5 2 2 1 5 5 5 5 5 2 3 4] is [5] for 12 times\n",
      "The mode for [3 2 2 5 2 4 5 3 5 3 3 1 4 1 3 2 1 4 3 2 1 3 3 4 5 5 5] is [3] for 8 times\n"
     ]
    }
   ],
   "source": [
    "#Male Rankings\n",
    "A,B,C,D,E = rank_df_to_np(mdf, rank_cols)\n",
    "array_to_mode(A)\n",
    "array_to_mode(B)\n",
    "array_to_mode(C)\n",
    "array_to_mode(D)\n",
    "array_to_mode(E)"
   ]
  },
  {
   "cell_type": "code",
   "execution_count": 24,
   "id": "5acac50b",
   "metadata": {},
   "outputs": [
    {
     "name": "stdout",
     "output_type": "stream",
     "text": [
      "19 responses found...\n",
      "The mode for [1 4 3 3 4 2 1 5 2 4 2 3 4 3 1 3 2 3 3] is [3] for 7 times\n",
      "The mode for [2 1 1 2 1 4 2 3 5 1 1 5 1 1 2 1 1 5 1] is [1] for 10 times\n",
      "The mode for [5 2 2 1 2 1 3 1 4 2 4 4 2 4 4 2 4 2 4] is [2, 4] for 7 times\n",
      "The mode for [4 5 4 4 5 3 4 4 3 3 3 2 3 2 3 5 5 1 5] is [3] for 6 times\n",
      "The mode for [3 3 5 5 3 5 5 2 1 5 5 1 5 5 5 4 3 4 2] is [5] for 9 times\n"
     ]
    }
   ],
   "source": [
    "#Female Rankings\n",
    "A,B,C,D,E = rank_df_to_np(fdf, rank_cols)\n",
    "array_to_mode(A)\n",
    "array_to_mode(B)\n",
    "array_to_mode(C)\n",
    "array_to_mode(D)\n",
    "array_to_mode(E)"
   ]
  },
  {
   "cell_type": "code",
   "execution_count": 25,
   "id": "bb94d9f9",
   "metadata": {},
   "outputs": [
    {
     "name": "stdout",
     "output_type": "stream",
     "text": [
      "23 responses found...\n",
      "The mode for [1 2 2 4 3 3 2 4 5 3 2 4 2 3 4 3 1 3 3 2 3 3 3] is [3] for 10 times\n",
      "The mode for [4 4 1 1 1 2 3 1 3 1 5 1 1 5 1 1 2 1 1 1 5 1 1] is [1] for 14 times\n",
      "The mode for [5 3 4 2 2 1 4 2 1 4 4 2 4 4 2 4 4 2 2 4 2 4 4] is [4] for 11 times\n",
      "The mode for [3 1 5 5 4 4 5 5 2 5 3 3 3 2 3 2 3 5 5 5 1 2 5] is [5] for 9 times\n",
      "The mode for [2 5 3 3 5 5 1 3 4 2 1 5 5 1 5 5 5 4 4 3 4 5 2] is [5] for 9 times\n"
     ]
    }
   ],
   "source": [
    "#Christian Rankings\n",
    "A,B,C,D,E = rank_df_to_np(chrdf, rank_cols)\n",
    "array_to_mode(A)\n",
    "array_to_mode(B)\n",
    "array_to_mode(C)\n",
    "array_to_mode(D)\n",
    "array_to_mode(E)"
   ]
  },
  {
   "cell_type": "code",
   "execution_count": 26,
   "id": "98b41009",
   "metadata": {},
   "outputs": [
    {
     "name": "stdout",
     "output_type": "stream",
     "text": [
      "12 responses found...\n",
      "The mode for [2 4 1 1 4 4 3 2 2 1 5 1] is [1] for 4 times\n",
      "The mode for [1 3 2 2 5 5 4 5 4 4 3 4] is [4] for 4 times\n",
      "The mode for [5 1 3 5 2 2 5 4 1 2 1 2] is [2] for 4 times\n",
      "The mode for [4 5 5 4 1 1 2 1 3 5 4 5] is [5] for 4 times\n",
      "The mode for [3 2 4 3 3 3 1 3 5 3 2 3] is [3] for 7 times\n"
     ]
    }
   ],
   "source": [
    "#Athiest Rankings\n",
    "A,B,C,D,E = rank_df_to_np(athdf, rank_cols)\n",
    "array_to_mode(A)\n",
    "array_to_mode(B)\n",
    "array_to_mode(C)\n",
    "array_to_mode(D)\n",
    "array_to_mode(E)"
   ]
  },
  {
   "cell_type": "markdown",
   "id": "a73f7331",
   "metadata": {},
   "source": [
    "### Graphing"
   ]
  },
  {
   "cell_type": "code",
   "execution_count": 27,
   "id": "560e9524",
   "metadata": {},
   "outputs": [],
   "source": [
    "import matplotlib.pyplot as plt\n",
    "import seaborn as sns"
   ]
  },
  {
   "cell_type": "code",
   "execution_count": 28,
   "id": "663558ae",
   "metadata": {},
   "outputs": [],
   "source": [
    "# eco1\n",
    "# soc1\n",
    "# env1-5\n",
    "# pol2,3\n",
    "# tec 1,2,3\n",
    "\n",
    "scale0 = [0,1,2,3,4,5,6,7,8,9,10]"
   ]
  },
  {
   "cell_type": "code",
   "execution_count": 29,
   "id": "a0e07148",
   "metadata": {},
   "outputs": [
    {
     "name": "stdout",
     "output_type": "stream",
     "text": [
      "The number of 0 is 0\n",
      "The number of 1 is 1\n",
      "The number of 2 is 0\n",
      "The number of 3 is 4\n",
      "The number of 4 is 2\n",
      "The number of 5 is 4\n",
      "The number of 6 is 2\n",
      "The number of 7 is 6\n",
      "The number of 8 is 6\n",
      "The number of 9 is 0\n",
      "The number of 10 is 2\n",
      "\n",
      "\n"
     ]
    }
   ],
   "source": [
    "# eco1 young\n",
    "df_to_stats(youngdf, scale0, 'eco1')"
   ]
  },
  {
   "cell_type": "code",
   "execution_count": 30,
   "id": "829bca67",
   "metadata": {},
   "outputs": [
    {
     "name": "stdout",
     "output_type": "stream",
     "text": [
      "The number of 0 is 0\n",
      "The number of 1 is 0\n",
      "The number of 2 is 0\n",
      "The number of 3 is 1\n",
      "The number of 4 is 4\n",
      "The number of 5 is 4\n",
      "The number of 6 is 2\n",
      "The number of 7 is 6\n",
      "The number of 8 is 2\n",
      "The number of 9 is 1\n",
      "The number of 10 is 0\n",
      "\n",
      "\n"
     ]
    }
   ],
   "source": [
    "# eco1 old\n",
    "df_to_stats(olddf, scale0, 'eco1')"
   ]
  },
  {
   "cell_type": "code",
   "execution_count": 32,
   "id": "dcb4cdf0",
   "metadata": {},
   "outputs": [
    {
     "name": "stdout",
     "output_type": "stream",
     "text": [
      "The number of 0 is 2\n",
      "The number of 1 is 0\n",
      "The number of 2 is 0\n",
      "The number of 3 is 1\n",
      "The number of 4 is 1\n",
      "The number of 5 is 3\n",
      "The number of 6 is 4\n",
      "The number of 7 is 7\n",
      "The number of 8 is 2\n",
      "The number of 9 is 5\n",
      "The number of 10 is 2\n",
      "\n",
      "\n"
     ]
    }
   ],
   "source": [
    "# soc1 young\n",
    "df_to_stats(youngdf, scale0, 'soc1')"
   ]
  },
  {
   "cell_type": "code",
   "execution_count": 34,
   "id": "1cb43100",
   "metadata": {},
   "outputs": [
    {
     "name": "stdout",
     "output_type": "stream",
     "text": [
      "The number of 0 is 0\n",
      "The number of 1 is 0\n",
      "The number of 2 is 0\n",
      "The number of 3 is 0\n",
      "The number of 4 is 1\n",
      "The number of 5 is 0\n",
      "The number of 6 is 1\n",
      "The number of 7 is 5\n",
      "The number of 8 is 5\n",
      "The number of 9 is 7\n",
      "The number of 10 is 1\n",
      "\n",
      "\n"
     ]
    }
   ],
   "source": [
    "# soc1 old\n",
    "df_to_stats(olddf, scale0, 'soc1')"
   ]
  },
  {
   "cell_type": "code",
   "execution_count": 37,
   "id": "052fdde0",
   "metadata": {},
   "outputs": [
    {
     "name": "stdout",
     "output_type": "stream",
     "text": [
      "The number of 0 is 1\n",
      "The number of 1 is 2\n",
      "The number of 2 is 2\n",
      "The number of 3 is 1\n",
      "The number of 4 is 1\n",
      "The number of 5 is 5\n",
      "The number of 6 is 5\n",
      "The number of 7 is 4\n",
      "The number of 8 is 3\n",
      "The number of 9 is 1\n",
      "The number of 10 is 2\n",
      "\n",
      "\n"
     ]
    }
   ],
   "source": [
    "# env1 young\n",
    "df_to_stats(youngdf, scale0, 'env1')"
   ]
  },
  {
   "cell_type": "code",
   "execution_count": 39,
   "id": "39fc7cff",
   "metadata": {},
   "outputs": [
    {
     "name": "stdout",
     "output_type": "stream",
     "text": [
      "The number of 0 is 0\n",
      "The number of 1 is 0\n",
      "The number of 2 is 1\n",
      "The number of 3 is 0\n",
      "The number of 4 is 0\n",
      "The number of 5 is 0\n",
      "The number of 6 is 1\n",
      "The number of 7 is 8\n",
      "The number of 8 is 4\n",
      "The number of 9 is 1\n",
      "The number of 10 is 5\n",
      "\n",
      "\n"
     ]
    }
   ],
   "source": [
    "# env1 old\n",
    "df_to_stats(olddf, scale0, 'env1')"
   ]
  },
  {
   "cell_type": "code",
   "execution_count": 41,
   "id": "6c73e52a",
   "metadata": {},
   "outputs": [
    {
     "name": "stdout",
     "output_type": "stream",
     "text": [
      "The number of 0 is 0\n",
      "The number of 1 is 4\n",
      "The number of 2 is 3\n",
      "The number of 3 is 5\n",
      "The number of 4 is 2\n",
      "The number of 5 is 3\n",
      "The number of 6 is 5\n",
      "The number of 7 is 2\n",
      "The number of 8 is 3\n",
      "The number of 9 is 0\n",
      "The number of 10 is 0\n",
      "\n",
      "\n"
     ]
    }
   ],
   "source": [
    "# env2 young\n",
    "df_to_stats(youngdf, scale0, 'env2')"
   ]
  },
  {
   "cell_type": "code",
   "execution_count": 43,
   "id": "66ae8011",
   "metadata": {},
   "outputs": [
    {
     "name": "stdout",
     "output_type": "stream",
     "text": [
      "The number of 0 is 0\n",
      "The number of 1 is 0\n",
      "The number of 2 is 2\n",
      "The number of 3 is 2\n",
      "The number of 4 is 2\n",
      "The number of 5 is 1\n",
      "The number of 6 is 4\n",
      "The number of 7 is 4\n",
      "The number of 8 is 4\n",
      "The number of 9 is 1\n",
      "The number of 10 is 0\n",
      "\n",
      "\n"
     ]
    }
   ],
   "source": [
    "# env2 old\n",
    "df_to_stats(olddf, scale0, 'env2')"
   ]
  },
  {
   "cell_type": "code",
   "execution_count": 46,
   "id": "5fab7cce",
   "metadata": {},
   "outputs": [
    {
     "name": "stdout",
     "output_type": "stream",
     "text": [
      "The number of 0 is 0\n",
      "The number of 1 is 0\n",
      "The number of 2 is 0\n",
      "The number of 3 is 0\n",
      "The number of 4 is 1\n",
      "The number of 5 is 0\n",
      "The number of 6 is 0\n",
      "The number of 7 is 1\n",
      "The number of 8 is 11\n",
      "The number of 9 is 7\n",
      "The number of 10 is 7\n",
      "\n",
      "\n"
     ]
    }
   ],
   "source": [
    "# env5 young\n",
    "df_to_stats(youngdf, scale0, 'env5')"
   ]
  },
  {
   "cell_type": "code",
   "execution_count": 48,
   "id": "a82d4397",
   "metadata": {},
   "outputs": [
    {
     "name": "stdout",
     "output_type": "stream",
     "text": [
      "The number of 0 is 0\n",
      "The number of 1 is 0\n",
      "The number of 2 is 0\n",
      "The number of 3 is 0\n",
      "The number of 4 is 0\n",
      "The number of 5 is 0\n",
      "The number of 6 is 2\n",
      "The number of 7 is 2\n",
      "The number of 8 is 5\n",
      "The number of 9 is 7\n",
      "The number of 10 is 4\n",
      "\n",
      "\n"
     ]
    }
   ],
   "source": [
    "# env5 old\n",
    "df_to_stats(olddf, scale0, 'env5')"
   ]
  },
  {
   "cell_type": "code",
   "execution_count": 49,
   "id": "8bc689d6",
   "metadata": {},
   "outputs": [
    {
     "name": "stdout",
     "output_type": "stream",
     "text": [
      "The number of 0 is 1\n",
      "The number of 1 is 0\n",
      "The number of 2 is 0\n",
      "The number of 3 is 1\n",
      "The number of 4 is 2\n",
      "The number of 5 is 6\n",
      "The number of 6 is 0\n",
      "The number of 7 is 4\n",
      "The number of 8 is 3\n",
      "The number of 9 is 6\n",
      "The number of 10 is 4\n",
      "\n",
      "\n"
     ]
    }
   ],
   "source": [
    "# pol2 young\n",
    "df_to_stats(youngdf, scale0, 'pol2')"
   ]
  },
  {
   "cell_type": "code",
   "execution_count": 51,
   "id": "6cd78c2d",
   "metadata": {},
   "outputs": [
    {
     "name": "stdout",
     "output_type": "stream",
     "text": [
      "The number of 0 is 0\n",
      "The number of 1 is 0\n",
      "The number of 2 is 0\n",
      "The number of 3 is 1\n",
      "The number of 4 is 0\n",
      "The number of 5 is 0\n",
      "The number of 6 is 0\n",
      "The number of 7 is 0\n",
      "The number of 8 is 2\n",
      "The number of 9 is 2\n",
      "The number of 10 is 15\n",
      "\n",
      "\n"
     ]
    }
   ],
   "source": [
    "# pol2 old\n",
    "df_to_stats(olddf, scale0, 'pol2')"
   ]
  },
  {
   "cell_type": "code",
   "execution_count": 52,
   "id": "bc169fd5",
   "metadata": {},
   "outputs": [
    {
     "name": "stdout",
     "output_type": "stream",
     "text": [
      "The number of 0 is 0\n",
      "The number of 1 is 1\n",
      "The number of 2 is 0\n",
      "The number of 3 is 0\n",
      "The number of 4 is 1\n",
      "The number of 5 is 1\n",
      "The number of 6 is 3\n",
      "The number of 7 is 1\n",
      "The number of 8 is 6\n",
      "The number of 9 is 10\n",
      "The number of 10 is 4\n",
      "\n",
      "\n"
     ]
    }
   ],
   "source": [
    "# tec1 young\n",
    "df_to_stats(youngdf, scale0, 'tec1')"
   ]
  },
  {
   "cell_type": "markdown",
   "id": "e2cc96d5",
   "metadata": {},
   "source": [
    "### The data above is used to make histograms, line graphs and pie charts with Google Sheets. The full research findings is to be found in the paper: \n",
    "### \"Wellbeing Indicator: A Background-Dependent Approach \""
   ]
  }
 ],
 "metadata": {
  "kernelspec": {
   "display_name": "Python 3 (ipykernel)",
   "language": "python",
   "name": "python3"
  },
  "language_info": {
   "codemirror_mode": {
    "name": "ipython",
    "version": 3
   },
   "file_extension": ".py",
   "mimetype": "text/x-python",
   "name": "python",
   "nbconvert_exporter": "python",
   "pygments_lexer": "ipython3",
   "version": "3.9.12"
  }
 },
 "nbformat": 4,
 "nbformat_minor": 5
}
